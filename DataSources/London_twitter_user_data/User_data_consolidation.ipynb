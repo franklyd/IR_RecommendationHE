{
 "cells": [
  {
   "cell_type": "code",
   "execution_count": 13,
   "metadata": {
    "collapsed": false
   },
   "outputs": [
    {
     "data": {
      "text/html": [
       "<pre>Finished parsing file H:\\Information Retrieval\\Project\\twitter\\london.txt</pre>"
      ],
      "text/plain": [
       "Finished parsing file H:\\Information Retrieval\\Project\\twitter\\london.txt"
      ]
     },
     "metadata": {},
     "output_type": "display_data"
    },
    {
     "data": {
      "text/html": [
       "<pre>Parsing completed. Parsed 100 lines in 2.18412 secs.</pre>"
      ],
      "text/plain": [
       "Parsing completed. Parsed 100 lines in 2.18412 secs."
      ]
     },
     "metadata": {},
     "output_type": "display_data"
    },
    {
     "name": "stdout",
     "output_type": "stream",
     "text": [
      "------------------------------------------------------\n",
      "Inferred types from first 100 line(s) of file as \n",
      "column_type_hints=[long,str,float]\n",
      "If parsing fails due to incorrect types, you can correct\n",
      "the inferred type list above and pass it to read_csv in\n",
      "the column_type_hints argument\n",
      "------------------------------------------------------\n"
     ]
    },
    {
     "data": {
      "text/html": [
       "<pre>Finished parsing file H:\\Information Retrieval\\Project\\twitter\\london.txt</pre>"
      ],
      "text/plain": [
       "Finished parsing file H:\\Information Retrieval\\Project\\twitter\\london.txt"
      ]
     },
     "metadata": {},
     "output_type": "display_data"
    },
    {
     "data": {
      "text/html": [
       "<pre>Parsing completed. Parsed 48852 lines in 0.192011 secs.</pre>"
      ],
      "text/plain": [
       "Parsing completed. Parsed 48852 lines in 0.192011 secs."
      ]
     },
     "metadata": {},
     "output_type": "display_data"
    },
    {
     "name": "stdout",
     "output_type": "stream",
     "text": [
      "('Unique users:', 9305)\n",
      "('Unique venues:', 11976)\n",
      "('Total interactions:', 46711)\n",
      "+-----------+--------------------------+\n",
      "|  user_id  |         venue_id         |\n",
      "+-----------+--------------------------+\n",
      "|  8493742  | 4ac518c5f964a520e1a420e3 |\n",
      "|  28777828 | 4c2ceb692219c92835e5a648 |\n",
      "| 162511952 | 4babef9df964a52012d73ae3 |\n",
      "|  18816105 | 4aeb31a3f964a5207bbf21e3 |\n",
      "|  18319254 | 4af7074ff964a520fa0422e3 |\n",
      "| 376938788 | 4b7c1c76f964a520917d2fe3 |\n",
      "|  20669549 | 4ac518e7f964a52053ab20e3 |\n",
      "|  20735661 | 4b838e75f964a520a30931e3 |\n",
      "| 138078717 | 4f5a594fe4b0b04917548235 |\n",
      "| 139888796 | 4c177dffd4ee9521ba37ba05 |\n",
      "+-----------+--------------------------+\n",
      "[10 rows x 2 columns]\n",
      "\n"
     ]
    }
   ],
   "source": [
    "import graphlab as gl\n",
    "\n",
    "london_sf = gl.SFrame.read_csv('H:/Information Retrieval/Project/twitter/london.txt',\n",
    "                        delimiter=' ',header=False)\n",
    "london_sf.rename({'X1':'user_id','X2':'venue_id','X3':'#visits(normalized)'})\n",
    "\n",
    "#Clean interactions, remove places contain \"home\"\n",
    "london_sf = london_sf[london_sf['venue_id'].apply(lambda x: x.find('home'))==-1]\n",
    "london_sf=london_sf['user_id','venue_id']\n",
    "\n",
    "len(london_sf['venue_id'].unique())\n",
    "\n",
    "#Check unique users and items\n",
    "print('Unique users:',len(london_sf['user_id'].unique()) )\n",
    "print ('Unique venues:',len(london_sf['venue_id'].unique()))\n",
    "print ('Total interactions:', len(london_sf))\n",
    "print(london_sf.head())\n"
   ]
  },
  {
   "cell_type": "code",
   "execution_count": 14,
   "metadata": {
    "collapsed": false
   },
   "outputs": [
    {
     "data": {
      "text/html": [
       "<pre>Finished parsing file H:\\Information Retrieval\\Project\\rec_by_records_latest.json</pre>"
      ],
      "text/plain": [
       "Finished parsing file H:\\Information Retrieval\\Project\\rec_by_records_latest.json"
      ]
     },
     "metadata": {},
     "output_type": "display_data"
    },
    {
     "data": {
      "text/html": [
       "<pre>Parsing completed. Parsed 1 lines in 0.146008 secs.</pre>"
      ],
      "text/plain": [
       "Parsing completed. Parsed 1 lines in 0.146008 secs."
      ]
     },
     "metadata": {},
     "output_type": "display_data"
    },
    {
     "name": "stdout",
     "output_type": "stream",
     "text": [
      "+-------------------------------+------------+\n",
      "|        Recommendations        |  user_id   |\n",
      "+-------------------------------+------------+\n",
      "| [4f4b60d5e4b0c132f3e0df85,... | 225059732  |\n",
      "| [522f448a11d29dcb40ba392b,... |  20063137  |\n",
      "| [4ac518d2f964a52026a720e3,... | 1181033244 |\n",
      "| [4be52e42910020a160b5d214,... |  10356152  |\n",
      "| [4be52e42910020a160b5d214,... | 285211221  |\n",
      "| [4ac518cef964a520f8a520e3,... |  18157365  |\n",
      "| [4ac518d5f964a52013a820e3,... | 808868670  |\n",
      "| [4f4b60d5e4b0c132f3e0df85,... | 236111793  |\n",
      "| [4edce907c2ee3cd644c79c65,... |  21941712  |\n",
      "| [4ae6cb07f964a5204ca721e3,... | 332552379  |\n",
      "+-------------------------------+------------+\n",
      "[10 rows x 2 columns]\n",
      "\n",
      "('Unique users:', 9305)\n"
     ]
    }
   ],
   "source": [
    "recommendation_sf =gl.SFrame.read_json('H:/Information Retrieval/Project/rec_by_records_latest.json', orient='records')\n",
    "recommendation_sf.rename({'List of venue_id':'Recommendations'})\n",
    "print(recommendation_sf.head())\n",
    "print('Unique users:',len(recommendation_sf['user_id'].unique()))"
   ]
  },
  {
   "cell_type": "code",
   "execution_count": 15,
   "metadata": {
    "collapsed": false
   },
   "outputs": [
    {
     "data": {
      "text/html": [
       "<pre>Finished parsing file H:\\Information Retrieval\\Project\\twitter_profiles.csv</pre>"
      ],
      "text/plain": [
       "Finished parsing file H:\\Information Retrieval\\Project\\twitter_profiles.csv"
      ]
     },
     "metadata": {},
     "output_type": "display_data"
    },
    {
     "data": {
      "text/html": [
       "<pre>Parsing completed. Parsed 100 lines in 1.58109 secs.</pre>"
      ],
      "text/plain": [
       "Parsing completed. Parsed 100 lines in 1.58109 secs."
      ]
     },
     "metadata": {},
     "output_type": "display_data"
    },
    {
     "name": "stdout",
     "output_type": "stream",
     "text": [
      "------------------------------------------------------\n",
      "Inferred types from first 100 line(s) of file as \n",
      "column_type_hints=[long,long,str,str,str,str,float,str,str,str,str,str,str,str,str,str,str,str,str,str,str,str,str,str,str,str,str,str,str,str,str,str,str,str,str,str,str,str,str,str,str,str,str,str,str,str,str,str,str,str,str,str,str,float,float,str,str,str]\n",
      "If parsing fails due to incorrect types, you can correct\n",
      "the inferred type list above and pass it to read_csv in\n",
      "the column_type_hints argument\n",
      "------------------------------------------------------\n"
     ]
    },
    {
     "data": {
      "text/html": [
       "<pre>Finished parsing file H:\\Information Retrieval\\Project\\twitter_profiles.csv</pre>"
      ],
      "text/plain": [
       "Finished parsing file H:\\Information Retrieval\\Project\\twitter_profiles.csv"
      ]
     },
     "metadata": {},
     "output_type": "display_data"
    },
    {
     "data": {
      "text/html": [
       "<pre>Parsing completed. Parsed 21024 lines in 0.477027 secs.</pre>"
      ],
      "text/plain": [
       "Parsing completed. Parsed 21024 lines in 0.477027 secs."
      ]
     },
     "metadata": {},
     "output_type": "display_data"
    }
   ],
   "source": [
    "user_data = gl.SFrame.read_csv('H:/Information Retrieval/Project/twitter_profiles.csv')"
   ]
  },
  {
   "cell_type": "code",
   "execution_count": 16,
   "metadata": {
    "collapsed": false
   },
   "outputs": [],
   "source": [
    "user_data = user_data['id','g_home_city','g_home_country','g_gender','g_age','l_city','uclass']\n",
    "user_data = user_data[user_data['l_city']=='london']"
   ]
  },
  {
   "cell_type": "code",
   "execution_count": 17,
   "metadata": {
    "collapsed": false
   },
   "outputs": [
    {
     "data": {
      "text/html": [
       "<div style=\"max-height:1000px;max-width:1500px;overflow:auto;\"><table frame=\"box\" rules=\"cols\">\n",
       "    <tr>\n",
       "        <th style=\"padding-left: 1em; padding-right: 1em; text-align: center\">user_id</th>\n",
       "        <th style=\"padding-left: 1em; padding-right: 1em; text-align: center\">home_city</th>\n",
       "        <th style=\"padding-left: 1em; padding-right: 1em; text-align: center\">home_country</th>\n",
       "        <th style=\"padding-left: 1em; padding-right: 1em; text-align: center\">gender</th>\n",
       "        <th style=\"padding-left: 1em; padding-right: 1em; text-align: center\">age</th>\n",
       "        <th style=\"padding-left: 1em; padding-right: 1em; text-align: center\">current_city</th>\n",
       "        <th style=\"padding-left: 1em; padding-right: 1em; text-align: center\">type</th>\n",
       "    </tr>\n",
       "    <tr>\n",
       "        <td style=\"padding-left: 1em; padding-right: 1em; text-align: center; vertical-align: top\">5976</td>\n",
       "        <td style=\"padding-left: 1em; padding-right: 1em; text-align: center; vertical-align: top\">Helsingborg</td>\n",
       "        <td style=\"padding-left: 1em; padding-right: 1em; text-align: center; vertical-align: top\">Sweden</td>\n",
       "        <td style=\"padding-left: 1em; padding-right: 1em; text-align: center; vertical-align: top\">Male</td>\n",
       "        <td style=\"padding-left: 1em; padding-right: 1em; text-align: center; vertical-align: top\">36</td>\n",
       "        <td style=\"padding-left: 1em; padding-right: 1em; text-align: center; vertical-align: top\">london</td>\n",
       "        <td style=\"padding-left: 1em; padding-right: 1em; text-align: center; vertical-align: top\">FOREIGN_TOURIST</td>\n",
       "    </tr>\n",
       "    <tr>\n",
       "        <td style=\"padding-left: 1em; padding-right: 1em; text-align: center; vertical-align: top\">10997</td>\n",
       "        <td style=\"padding-left: 1em; padding-right: 1em; text-align: center; vertical-align: top\">Nottingham</td>\n",
       "        <td style=\"padding-left: 1em; padding-right: 1em; text-align: center; vertical-align: top\">United Kingdom</td>\n",
       "        <td style=\"padding-left: 1em; padding-right: 1em; text-align: center; vertical-align: top\">Male</td>\n",
       "        <td style=\"padding-left: 1em; padding-right: 1em; text-align: center; vertical-align: top\">27</td>\n",
       "        <td style=\"padding-left: 1em; padding-right: 1em; text-align: center; vertical-align: top\">london</td>\n",
       "        <td style=\"padding-left: 1em; padding-right: 1em; text-align: center; vertical-align: top\">FOREIGN_TOURIST</td>\n",
       "    </tr>\n",
       "    <tr>\n",
       "        <td style=\"padding-left: 1em; padding-right: 1em; text-align: center; vertical-align: top\">14523</td>\n",
       "        <td style=\"padding-left: 1em; padding-right: 1em; text-align: center; vertical-align: top\">Newport Pagnell</td>\n",
       "        <td style=\"padding-left: 1em; padding-right: 1em; text-align: center; vertical-align: top\">United Kingdom</td>\n",
       "        <td style=\"padding-left: 1em; padding-right: 1em; text-align: center; vertical-align: top\">Unknown</td>\n",
       "        <td style=\"padding-left: 1em; padding-right: 1em; text-align: center; vertical-align: top\">Unknown</td>\n",
       "        <td style=\"padding-left: 1em; padding-right: 1em; text-align: center; vertical-align: top\">london</td>\n",
       "        <td style=\"padding-left: 1em; padding-right: 1em; text-align: center; vertical-align: top\">FOREIGN_TOURIST</td>\n",
       "    </tr>\n",
       "    <tr>\n",
       "        <td style=\"padding-left: 1em; padding-right: 1em; text-align: center; vertical-align: top\">15573</td>\n",
       "        <td style=\"padding-left: 1em; padding-right: 1em; text-align: center; vertical-align: top\">London</td>\n",
       "        <td style=\"padding-left: 1em; padding-right: 1em; text-align: center; vertical-align: top\">United Kingdom</td>\n",
       "        <td style=\"padding-left: 1em; padding-right: 1em; text-align: center; vertical-align: top\">Male</td>\n",
       "        <td style=\"padding-left: 1em; padding-right: 1em; text-align: center; vertical-align: top\">33</td>\n",
       "        <td style=\"padding-left: 1em; padding-right: 1em; text-align: center; vertical-align: top\">london</td>\n",
       "        <td style=\"padding-left: 1em; padding-right: 1em; text-align: center; vertical-align: top\">RESIDENT</td>\n",
       "    </tr>\n",
       "    <tr>\n",
       "        <td style=\"padding-left: 1em; padding-right: 1em; text-align: center; vertical-align: top\">18863</td>\n",
       "        <td style=\"padding-left: 1em; padding-right: 1em; text-align: center; vertical-align: top\">Birmingham</td>\n",
       "        <td style=\"padding-left: 1em; padding-right: 1em; text-align: center; vertical-align: top\">United Kingdom</td>\n",
       "        <td style=\"padding-left: 1em; padding-right: 1em; text-align: center; vertical-align: top\">Unknown</td>\n",
       "        <td style=\"padding-left: 1em; padding-right: 1em; text-align: center; vertical-align: top\">Unknown</td>\n",
       "        <td style=\"padding-left: 1em; padding-right: 1em; text-align: center; vertical-align: top\">london</td>\n",
       "        <td style=\"padding-left: 1em; padding-right: 1em; text-align: center; vertical-align: top\">FOREIGN_TOURIST</td>\n",
       "    </tr>\n",
       "    <tr>\n",
       "        <td style=\"padding-left: 1em; padding-right: 1em; text-align: center; vertical-align: top\">21723</td>\n",
       "        <td style=\"padding-left: 1em; padding-right: 1em; text-align: center; vertical-align: top\">London</td>\n",
       "        <td style=\"padding-left: 1em; padding-right: 1em; text-align: center; vertical-align: top\">United Kingdom</td>\n",
       "        <td style=\"padding-left: 1em; padding-right: 1em; text-align: center; vertical-align: top\">Male</td>\n",
       "        <td style=\"padding-left: 1em; padding-right: 1em; text-align: center; vertical-align: top\">40</td>\n",
       "        <td style=\"padding-left: 1em; padding-right: 1em; text-align: center; vertical-align: top\">london</td>\n",
       "        <td style=\"padding-left: 1em; padding-right: 1em; text-align: center; vertical-align: top\">RESIDENT</td>\n",
       "    </tr>\n",
       "    <tr>\n",
       "        <td style=\"padding-left: 1em; padding-right: 1em; text-align: center; vertical-align: top\">23483</td>\n",
       "        <td style=\"padding-left: 1em; padding-right: 1em; text-align: center; vertical-align: top\">Docklands</td>\n",
       "        <td style=\"padding-left: 1em; padding-right: 1em; text-align: center; vertical-align: top\">Australia</td>\n",
       "        <td style=\"padding-left: 1em; padding-right: 1em; text-align: center; vertical-align: top\">Male</td>\n",
       "        <td style=\"padding-left: 1em; padding-right: 1em; text-align: center; vertical-align: top\">21</td>\n",
       "        <td style=\"padding-left: 1em; padding-right: 1em; text-align: center; vertical-align: top\">london</td>\n",
       "        <td style=\"padding-left: 1em; padding-right: 1em; text-align: center; vertical-align: top\">FOREIGN_TOURIST</td>\n",
       "    </tr>\n",
       "    <tr>\n",
       "        <td style=\"padding-left: 1em; padding-right: 1em; text-align: center; vertical-align: top\">23513</td>\n",
       "        <td style=\"padding-left: 1em; padding-right: 1em; text-align: center; vertical-align: top\">Poole</td>\n",
       "        <td style=\"padding-left: 1em; padding-right: 1em; text-align: center; vertical-align: top\">United Kingdom</td>\n",
       "        <td style=\"padding-left: 1em; padding-right: 1em; text-align: center; vertical-align: top\">Male</td>\n",
       "        <td style=\"padding-left: 1em; padding-right: 1em; text-align: center; vertical-align: top\">28</td>\n",
       "        <td style=\"padding-left: 1em; padding-right: 1em; text-align: center; vertical-align: top\">london</td>\n",
       "        <td style=\"padding-left: 1em; padding-right: 1em; text-align: center; vertical-align: top\">FOREIGN_TOURIST</td>\n",
       "    </tr>\n",
       "    <tr>\n",
       "        <td style=\"padding-left: 1em; padding-right: 1em; text-align: center; vertical-align: top\">24503</td>\n",
       "        <td style=\"padding-left: 1em; padding-right: 1em; text-align: center; vertical-align: top\">London</td>\n",
       "        <td style=\"padding-left: 1em; padding-right: 1em; text-align: center; vertical-align: top\">United Kingdom</td>\n",
       "        <td style=\"padding-left: 1em; padding-right: 1em; text-align: center; vertical-align: top\">Unknown</td>\n",
       "        <td style=\"padding-left: 1em; padding-right: 1em; text-align: center; vertical-align: top\">Unknown</td>\n",
       "        <td style=\"padding-left: 1em; padding-right: 1em; text-align: center; vertical-align: top\">london</td>\n",
       "        <td style=\"padding-left: 1em; padding-right: 1em; text-align: center; vertical-align: top\">RESIDENT</td>\n",
       "    </tr>\n",
       "    <tr>\n",
       "        <td style=\"padding-left: 1em; padding-right: 1em; text-align: center; vertical-align: top\">28563</td>\n",
       "        <td style=\"padding-left: 1em; padding-right: 1em; text-align: center; vertical-align: top\">Hastings</td>\n",
       "        <td style=\"padding-left: 1em; padding-right: 1em; text-align: center; vertical-align: top\">United Kingdom</td>\n",
       "        <td style=\"padding-left: 1em; padding-right: 1em; text-align: center; vertical-align: top\">Unknown</td>\n",
       "        <td style=\"padding-left: 1em; padding-right: 1em; text-align: center; vertical-align: top\">Unknown</td>\n",
       "        <td style=\"padding-left: 1em; padding-right: 1em; text-align: center; vertical-align: top\">london</td>\n",
       "        <td style=\"padding-left: 1em; padding-right: 1em; text-align: center; vertical-align: top\">FOREIGN_TOURIST</td>\n",
       "    </tr>\n",
       "</table>\n",
       "[? rows x 7 columns]<br/>Note: Only the head of the SFrame is printed. This SFrame is lazily evaluated.<br/>You can use sf.materialize() to force materialization.\n",
       "</div>"
      ],
      "text/plain": [
       "Columns:\n",
       "\tuser_id\tint\n",
       "\thome_city\tstr\n",
       "\thome_country\tstr\n",
       "\tgender\tstr\n",
       "\tage\tstr\n",
       "\tcurrent_city\tstr\n",
       "\ttype\tstr\n",
       "\n",
       "Rows: Unknown\n",
       "\n",
       "Data:\n",
       "+---------+-----------------+----------------+---------+---------+--------------+\n",
       "| user_id |    home_city    |  home_country  |  gender |   age   | current_city |\n",
       "+---------+-----------------+----------------+---------+---------+--------------+\n",
       "|   5976  |   Helsingborg   |     Sweden     |   Male  |    36   |    london    |\n",
       "|  10997  |    Nottingham   | United Kingdom |   Male  |    27   |    london    |\n",
       "|  14523  | Newport Pagnell | United Kingdom | Unknown | Unknown |    london    |\n",
       "|  15573  |      London     | United Kingdom |   Male  |    33   |    london    |\n",
       "|  18863  |    Birmingham   | United Kingdom | Unknown | Unknown |    london    |\n",
       "|  21723  |      London     | United Kingdom |   Male  |    40   |    london    |\n",
       "|  23483  |    Docklands    |   Australia    |   Male  |    21   |    london    |\n",
       "|  23513  |      Poole      | United Kingdom |   Male  |    28   |    london    |\n",
       "|  24503  |      London     | United Kingdom | Unknown | Unknown |    london    |\n",
       "|  28563  |     Hastings    | United Kingdom | Unknown | Unknown |    london    |\n",
       "+---------+-----------------+----------------+---------+---------+--------------+\n",
       "+-----------------+\n",
       "|       type      |\n",
       "+-----------------+\n",
       "| FOREIGN_TOURIST |\n",
       "| FOREIGN_TOURIST |\n",
       "| FOREIGN_TOURIST |\n",
       "|     RESIDENT    |\n",
       "| FOREIGN_TOURIST |\n",
       "|     RESIDENT    |\n",
       "| FOREIGN_TOURIST |\n",
       "| FOREIGN_TOURIST |\n",
       "|     RESIDENT    |\n",
       "| FOREIGN_TOURIST |\n",
       "+-----------------+\n",
       "[? rows x 7 columns]\n",
       "Note: Only the head of the SFrame is printed. This SFrame is lazily evaluated.\n",
       "You can use sf.materialize() to force materialization."
      ]
     },
     "execution_count": 17,
     "metadata": {},
     "output_type": "execute_result"
    }
   ],
   "source": [
    "user_data.rename({'id':'user_id'})\n",
    "user_data.rename({'g_home_city':'home_city'})\n",
    "user_data.rename({'g_home_country':'home_country'})\n",
    "user_data.rename({'g_gender':'gender'})\n",
    "user_data.rename({'g_age':'age'})\n",
    "user_data.rename({'l_city':'current_city'})\n",
    "user_data.rename({'uclass':'type'})"
   ]
  },
  {
   "cell_type": "code",
   "execution_count": 18,
   "metadata": {
    "collapsed": false
   },
   "outputs": [
    {
     "name": "stdout",
     "output_type": "stream",
     "text": [
      "('Unique users:', 9553)\n"
     ]
    }
   ],
   "source": [
    "print('Unique users:',len(user_data['user_id'].unique()) )"
   ]
  },
  {
   "cell_type": "code",
   "execution_count": 26,
   "metadata": {
    "collapsed": false
   },
   "outputs": [
    {
     "name": "stdout",
     "output_type": "stream",
     "text": [
      "+------------+-------------------------------+\n",
      "|  user_id   |         visited_places        |\n",
      "+------------+-------------------------------+\n",
      "| 225059732  | [4bbcd49fa8cf76b09703b1fd,... |\n",
      "|  20063137  | [4e17006462e1ccb5024944c9,... |\n",
      "| 1181033244 | [4d6b00f76107f04d95492a7a,... |\n",
      "|  10356152  | [4ac518f6f964a52052af20e3,... |\n",
      "| 285211221  | [5395926f11d283da0ca0b11f,... |\n",
      "|  18157365  | [52d144c5498ea03401c4117f,... |\n",
      "| 808868670  | [52a33c3f11d2da184386b506,... |\n",
      "| 236111793  | [4b114284f964a520657923e3,... |\n",
      "|  21941712  | [4bed0fc8e3562d7fef81fef8,... |\n",
      "| 332552379  | [4c1d2bba63750f478bcfb767,... |\n",
      "+------------+-------------------------------+\n",
      "[10 rows x 2 columns]\n",
      "\n"
     ]
    }
   ],
   "source": [
    "london_sf=london_sf.unstack('venue_id', new_column_name='visited_places')\n",
    "print(london_sf.head())"
   ]
  },
  {
   "cell_type": "code",
   "execution_count": 27,
   "metadata": {
    "collapsed": false
   },
   "outputs": [
    {
     "name": "stdout",
     "output_type": "stream",
     "text": [
      "+-------------------------------+------------+-------------------------------+\n",
      "|        Recommendations        |  user_id   |         visited_places        |\n",
      "+-------------------------------+------------+-------------------------------+\n",
      "| [4f4b60d5e4b0c132f3e0df85,... | 225059732  | [4bbcd49fa8cf76b09703b1fd,... |\n",
      "| [522f448a11d29dcb40ba392b,... |  20063137  | [4e17006462e1ccb5024944c9,... |\n",
      "| [4ac518d2f964a52026a720e3,... | 1181033244 | [4d6b00f76107f04d95492a7a,... |\n",
      "| [4be52e42910020a160b5d214,... |  10356152  | [4ac518f6f964a52052af20e3,... |\n",
      "| [4be52e42910020a160b5d214,... | 285211221  | [5395926f11d283da0ca0b11f,... |\n",
      "| [4ac518cef964a520f8a520e3,... |  18157365  | [52d144c5498ea03401c4117f,... |\n",
      "| [4ac518d5f964a52013a820e3,... | 808868670  | [52a33c3f11d2da184386b506,... |\n",
      "| [4f4b60d5e4b0c132f3e0df85,... | 236111793  | [4b114284f964a520657923e3,... |\n",
      "| [4edce907c2ee3cd644c79c65,... |  21941712  | [4bed0fc8e3562d7fef81fef8,... |\n",
      "| [4ae6cb07f964a5204ca721e3,... | 332552379  | [4c1d2bba63750f478bcfb767,... |\n",
      "+-------------------------------+------------+-------------------------------+\n",
      "[10 rows x 3 columns]\n",
      "\n",
      "('Unique users:', 9305)\n"
     ]
    }
   ],
   "source": [
    "rec_london_sf=recommendation_sf.join(london_sf,on='user_id', how='left')\n",
    "print(rec_london_sf.head())\n",
    "print('Unique users:',len(rec_london_sf['user_id'].unique()) )"
   ]
  },
  {
   "cell_type": "code",
   "execution_count": 28,
   "metadata": {
    "collapsed": false
   },
   "outputs": [
    {
     "name": "stdout",
     "output_type": "stream",
     "text": [
      "+-------------------------------+---------+-------------------------------+\n",
      "|        Recommendations        | user_id |         visited_places        |\n",
      "+-------------------------------+---------+-------------------------------+\n",
      "| [4ac518d2f964a5203da720e3,... |   5976  | [4acf3eb0f964a520ddd220e3,... |\n",
      "| [4ba7c51cf964a520c7b139e3,... |  14523  | [4f182f1aa17c202e1058990c,... |\n",
      "| [4e3ea26445dd68e32748c6f1,... |  15573  | [4c45f452f88dc9281951ae75,... |\n",
      "| [4aeecd2df964a52049d421e3,... |  21723  | [4ac518d3f964a5204da720e3,... |\n",
      "| [4bc8ef89b6c49c740b768d91,... |  24503  | [4d53bd505b3f6dcb06c0d6cc,... |\n",
      "| [4e175b25183880768f35a7e5,... |  33433  | [4f994ccbe4b0973bbc56a29b,... |\n",
      "| [4ac518d2f964a52026a720e3,... |  33943  | [531ccb56498ed12bc9f9e5a0,... |\n",
      "| [4c9c6a059c48236a1cb14dee,... |  45393  | [4ad6dc04f964a520530821e3,... |\n",
      "| [4be52e42910020a160b5d214,... |  60033  | [4b7e5255f964a52076e92fe3,... |\n",
      "| [4ac518d2f964a5203da720e3,... |  64623  | [4b0bf426f964a5200e3523e3,... |\n",
      "+-------------------------------+---------+-------------------------------+\n",
      "+-----------------+----------------+---------+---------+--------------+\n",
      "|    home_city    |  home_country  |  gender |   age   | current_city |\n",
      "+-----------------+----------------+---------+---------+--------------+\n",
      "|   Helsingborg   |     Sweden     |   Male  |    36   |    london    |\n",
      "| Newport Pagnell | United Kingdom | Unknown | Unknown |    london    |\n",
      "|      London     | United Kingdom |   Male  |    33   |    london    |\n",
      "|      London     | United Kingdom |   Male  |    40   |    london    |\n",
      "|      London     | United Kingdom | Unknown | Unknown |    london    |\n",
      "|      London     | United Kingdom | Unknown | Unknown |    london    |\n",
      "|      London     | United Kingdom | Unknown | Unknown |    london    |\n",
      "|     Dorking     | United Kingdom |   Male  |    24   |    london    |\n",
      "|     Brighton    | United Kingdom | Unknown | Unknown |    london    |\n",
      "|      London     | United Kingdom |   Male  |    47   |    london    |\n",
      "+-----------------+----------------+---------+---------+--------------+\n",
      "+-----------------+\n",
      "|       type      |\n",
      "+-----------------+\n",
      "| FOREIGN_TOURIST |\n",
      "| FOREIGN_TOURIST |\n",
      "|     RESIDENT    |\n",
      "|     RESIDENT    |\n",
      "|     RESIDENT    |\n",
      "|     RESIDENT    |\n",
      "|     RESIDENT    |\n",
      "| FOREIGN_TOURIST |\n",
      "| FOREIGN_TOURIST |\n",
      "|     RESIDENT    |\n",
      "+-----------------+\n",
      "[10 rows x 9 columns]\n",
      "\n",
      "('Unique users:', 9305)\n"
     ]
    }
   ],
   "source": [
    "final_sf=rec_london_sf.join(user_data,on='user_id', how='left')\n",
    "\n",
    "print(final_sf.head())\n",
    "print('Unique users:',len(final_sf['user_id'].unique()) )"
   ]
  },
  {
   "cell_type": "code",
   "execution_count": 29,
   "metadata": {
    "collapsed": false
   },
   "outputs": [
    {
     "name": "stdout",
     "output_type": "stream",
     "text": [
      "{'home_city': 'Unknown', 'gender': 'Unknown', 'age': 'Unknown', 'current_city': 'Unknown', 'visited_places': ['4bd55a915631c9b62af2a330', '5264f8b011d29cd4e3d4a1d1', '519b2f49498e2450ee2448a9'], 'Recommendations': ['4ac518cef964a520f8a520e3', '4f9dc83cbb3d11bba0330d01', '513f8bb3e4b0f8e5e8926a98'], 'user_id': 467269219L, 'home_country': 'Unknown', 'type': 'Unknown'}\n"
     ]
    }
   ],
   "source": [
    "final_sf = final_sf.fillna('type','Unknown')\n",
    "final_sf = final_sf.fillna('home_city','Unknown')\n",
    "final_sf = final_sf.fillna('home_country','Unknown')\n",
    "final_sf = final_sf.fillna('gender','Unknown')\n",
    "final_sf = final_sf.fillna('age','Unknown')\n",
    "final_sf = final_sf.fillna('current_city','Unknown')\n",
    "\n",
    "print(final_sf[590])"
   ]
  },
  {
   "cell_type": "code",
   "execution_count": 35,
   "metadata": {
    "collapsed": true
   },
   "outputs": [],
   "source": [
    "final_sf.save('H:/Information Retrieval/Project//final_sf.json', format='json')"
   ]
  },
  {
   "cell_type": "code",
   "execution_count": 38,
   "metadata": {
    "collapsed": true
   },
   "outputs": [],
   "source": [
    "import json\n",
    "\n",
    "json_file = open('H:/Information Retrieval/Project/final_sf.json')\n",
    "json_str = json_file.read()\n",
    "json_data = json.loads(json_str)\n",
    "#print(json_data)\n",
    "\n",
    "lis=[]\n",
    "#for i in range(len(json_data)):\n",
    "for i in range(len(json_data)):\n",
    "\tfor j in range(3):\n",
    "\t\tdic={ 'venue_id' : json_data[i]['Recommendations'][j], 'status' : 0, 'explaination' : \"\", 'provider' : \"\"}\n",
    "\t\tjson_data[i]['Recommendations'][j] =dic\n",
    "\n",
    "with open('H:/Information Retrieval/Project/user_table_data1.json', 'w') as outfile:\n",
    "        json.dump(json_data, outfile)"
   ]
  }
 ],
 "metadata": {
  "kernelspec": {
   "display_name": "Python 2",
   "language": "python",
   "name": "python2"
  },
  "language_info": {
   "codemirror_mode": {
    "name": "ipython",
    "version": 2
   },
   "file_extension": ".py",
   "mimetype": "text/x-python",
   "name": "python",
   "nbconvert_exporter": "python",
   "pygments_lexer": "ipython2",
   "version": "2.7.13"
  }
 },
 "nbformat": 4,
 "nbformat_minor": 0
}

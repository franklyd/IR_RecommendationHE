{
 "cells": [
  {
   "cell_type": "markdown",
   "metadata": {},
   "source": [
    "# Generating topics for venue tips in London\n",
    "* prepare tips data\n",
    "* preprocessing tips\n",
    "* generating topics\n",
    "* evaluation"
   ]
  },
  {
   "cell_type": "markdown",
   "metadata": {},
   "source": [
    "### 1.prepare tips data\n",
    "We collect tips from Foursquare. \n",
    "\n",
    "There are around 11000 places and about 1700 places have more 200 tips.\n",
    "All of the tips(English tips) were collected previously. "
   ]
  },
  {
   "cell_type": "code",
   "execution_count": 247,
   "metadata": {
    "collapsed": true
   },
   "outputs": [],
   "source": [
    "# import useful libs\n",
    "import graphlab as gl\n",
    "import pandas as pd\n",
    "import json\n",
    "import re"
   ]
  },
  {
   "cell_type": "code",
   "execution_count": 248,
   "metadata": {
    "collapsed": false
   },
   "outputs": [],
   "source": [
    "# combine two json files: one for venue info, one for tips\n",
    "file_path = './cleaned_london_venues_data_twitter.json'\n",
    "json_file = open(file_path)\n",
    "jsonObj = json.load(json_file)\n",
    "\n",
    "file_path = './london_tips.json'\n",
    "json_file = open(file_path)\n",
    "tips = json.load(json_file)\n",
    "\n",
    "for id in jsonObj.keys():\n",
    "    jsonObj[id]['tips'] = tips[id]\n",
    "df = pd.DataFrame.from_dict(jsonObj,orient='index')"
   ]
  },
  {
   "cell_type": "code",
   "execution_count": 249,
   "metadata": {
    "collapsed": false,
    "scrolled": true
   },
   "outputs": [],
   "source": [
    "# export it to csv for later use\n",
    "df['venue_id'] = df.index\n",
    "sf = gl.SFrame(df)\n",
    "sf.export_csv('london_venue.csv')"
   ]
  },
  {
   "cell_type": "code",
   "execution_count": 254,
   "metadata": {
    "collapsed": false,
    "scrolled": true
   },
   "outputs": [
    {
     "data": {
      "text/html": [
       "<div style=\"max-height:1000px;max-width:1500px;overflow:auto;\"><table frame=\"box\" rules=\"cols\">\n",
       "    <tr>\n",
       "        <th style=\"padding-left: 1em; padding-right: 1em; text-align: center\">category</th>\n",
       "        <th style=\"padding-left: 1em; padding-right: 1em; text-align: center\">city</th>\n",
       "        <th style=\"padding-left: 1em; padding-right: 1em; text-align: center\">rating</th>\n",
       "        <th style=\"padding-left: 1em; padding-right: 1em; text-align: center\">name</th>\n",
       "        <th style=\"padding-left: 1em; padding-right: 1em; text-align: center\">tags</th>\n",
       "        <th style=\"padding-left: 1em; padding-right: 1em; text-align: center\">country</th>\n",
       "        <th style=\"padding-left: 1em; padding-right: 1em; text-align: center\">likes</th>\n",
       "    </tr>\n",
       "    <tr>\n",
       "        <td style=\"padding-left: 1em; padding-right: 1em; text-align: center; vertical-align: top\">Burgers</td>\n",
       "        <td style=\"padding-left: 1em; padding-right: 1em; text-align: center; vertical-align: top\">London</td>\n",
       "        <td style=\"padding-left: 1em; padding-right: 1em; text-align: center; vertical-align: top\">8.3</td>\n",
       "        <td style=\"padding-left: 1em; padding-right: 1em; text-align: center; vertical-align: top\">Byron</td>\n",
       "        <td style=\"padding-left: 1em; padding-right: 1em; text-align: center; vertical-align: top\">[burgers]</td>\n",
       "        <td style=\"padding-left: 1em; padding-right: 1em; text-align: center; vertical-align: top\">GB</td>\n",
       "        <td style=\"padding-left: 1em; padding-right: 1em; text-align: center; vertical-align: top\">150.0</td>\n",
       "    </tr>\n",
       "    <tr>\n",
       "        <td style=\"padding-left: 1em; padding-right: 1em; text-align: center; vertical-align: top\">Hotel</td>\n",
       "        <td style=\"padding-left: 1em; padding-right: 1em; text-align: center; vertical-align: top\">London</td>\n",
       "        <td style=\"padding-left: 1em; padding-right: 1em; text-align: center; vertical-align: top\">9.0</td>\n",
       "        <td style=\"padding-left: 1em; padding-right: 1em; text-align: center; vertical-align: top\">Haymarket Hotel</td>\n",
       "        <td style=\"padding-left: 1em; padding-right: 1em; text-align: center; vertical-align: top\">[]</td>\n",
       "        <td style=\"padding-left: 1em; padding-right: 1em; text-align: center; vertical-align: top\">GB</td>\n",
       "        <td style=\"padding-left: 1em; padding-right: 1em; text-align: center; vertical-align: top\">32.0</td>\n",
       "    </tr>\n",
       "    <tr>\n",
       "        <td style=\"padding-left: 1em; padding-right: 1em; text-align: center; vertical-align: top\">Palace</td>\n",
       "        <td style=\"padding-left: 1em; padding-right: 1em; text-align: center; vertical-align: top\">London</td>\n",
       "        <td style=\"padding-left: 1em; padding-right: 1em; text-align: center; vertical-align: top\">9.0</td>\n",
       "        <td style=\"padding-left: 1em; padding-right: 1em; text-align: center; vertical-align: top\">Buckingham Palace</td>\n",
       "        <td style=\"padding-left: 1em; padding-right: 1em; text-align: center; vertical-align: top\">[cultural, guards,<br>palace, queen, royalty, ...</td>\n",
       "        <td style=\"padding-left: 1em; padding-right: 1em; text-align: center; vertical-align: top\">GB</td>\n",
       "        <td style=\"padding-left: 1em; padding-right: 1em; text-align: center; vertical-align: top\">5469.0</td>\n",
       "    </tr>\n",
       "    <tr>\n",
       "        <td style=\"padding-left: 1em; padding-right: 1em; text-align: center; vertical-align: top\">Hotel</td>\n",
       "        <td style=\"padding-left: 1em; padding-right: 1em; text-align: center; vertical-align: top\">London</td>\n",
       "        <td style=\"padding-left: 1em; padding-right: 1em; text-align: center; vertical-align: top\">7.2</td>\n",
       "        <td style=\"padding-left: 1em; padding-right: 1em; text-align: center; vertical-align: top\">Macdonald Hotel</td>\n",
       "        <td style=\"padding-left: 1em; padding-right: 1em; text-align: center; vertical-align: top\">[]</td>\n",
       "        <td style=\"padding-left: 1em; padding-right: 1em; text-align: center; vertical-align: top\">GB</td>\n",
       "        <td style=\"padding-left: 1em; padding-right: 1em; text-align: center; vertical-align: top\">4.0</td>\n",
       "    </tr>\n",
       "    <tr>\n",
       "        <td style=\"padding-left: 1em; padding-right: 1em; text-align: center; vertical-align: top\">Portuguese</td>\n",
       "        <td style=\"padding-left: 1em; padding-right: 1em; text-align: center; vertical-align: top\">London</td>\n",
       "        <td style=\"padding-left: 1em; padding-right: 1em; text-align: center; vertical-align: top\">8.2</td>\n",
       "        <td style=\"padding-left: 1em; padding-right: 1em; text-align: center; vertical-align: top\">O Cantinho de Portugal</td>\n",
       "        <td style=\"padding-left: 1em; padding-right: 1em; text-align: center; vertical-align: top\">[]</td>\n",
       "        <td style=\"padding-left: 1em; padding-right: 1em; text-align: center; vertical-align: top\">GB</td>\n",
       "        <td style=\"padding-left: 1em; padding-right: 1em; text-align: center; vertical-align: top\">31.0</td>\n",
       "    </tr>\n",
       "    <tr>\n",
       "        <td style=\"padding-left: 1em; padding-right: 1em; text-align: center; vertical-align: top\">Zoo</td>\n",
       "        <td style=\"padding-left: 1em; padding-right: 1em; text-align: center; vertical-align: top\">London</td>\n",
       "        <td style=\"padding-left: 1em; padding-right: 1em; text-align: center; vertical-align: top\">8.9</td>\n",
       "        <td style=\"padding-left: 1em; padding-right: 1em; text-align: center; vertical-align: top\">ZSL London Zoo</td>\n",
       "        <td style=\"padding-left: 1em; padding-right: 1em; text-align: center; vertical-align: top\">[animals, aquarium,<br>birds, lions, meerkats, ...</td>\n",
       "        <td style=\"padding-left: 1em; padding-right: 1em; text-align: center; vertical-align: top\">GB</td>\n",
       "        <td style=\"padding-left: 1em; padding-right: 1em; text-align: center; vertical-align: top\">823.0</td>\n",
       "    </tr>\n",
       "    <tr>\n",
       "        <td style=\"padding-left: 1em; padding-right: 1em; text-align: center; vertical-align: top\">Art Gallery</td>\n",
       "        <td style=\"padding-left: 1em; padding-right: 1em; text-align: center; vertical-align: top\">London</td>\n",
       "        <td style=\"padding-left: 1em; padding-right: 1em; text-align: center; vertical-align: top\">9.5</td>\n",
       "        <td style=\"padding-left: 1em; padding-right: 1em; text-align: center; vertical-align: top\">Tate Britain</td>\n",
       "        <td style=\"padding-left: 1em; padding-right: 1em; text-align: center; vertical-align: top\">[art, art gallery,<br>gallery, louis vuitton, ...</td>\n",
       "        <td style=\"padding-left: 1em; padding-right: 1em; text-align: center; vertical-align: top\">GB</td>\n",
       "        <td style=\"padding-left: 1em; padding-right: 1em; text-align: center; vertical-align: top\">1281.0</td>\n",
       "    </tr>\n",
       "    <tr>\n",
       "        <td style=\"padding-left: 1em; padding-right: 1em; text-align: center; vertical-align: top\">Hotel</td>\n",
       "        <td style=\"padding-left: 1em; padding-right: 1em; text-align: center; vertical-align: top\">London</td>\n",
       "        <td style=\"padding-left: 1em; padding-right: 1em; text-align: center; vertical-align: top\">8.3</td>\n",
       "        <td style=\"padding-left: 1em; padding-right: 1em; text-align: center; vertical-align: top\">The Cavendish London</td>\n",
       "        <td style=\"padding-left: 1em; padding-right: 1em; text-align: center; vertical-align: top\">[accommodation, 4-star,<br>meeting, lunch, hotel] ...</td>\n",
       "        <td style=\"padding-left: 1em; padding-right: 1em; text-align: center; vertical-align: top\">GB</td>\n",
       "        <td style=\"padding-left: 1em; padding-right: 1em; text-align: center; vertical-align: top\">60.0</td>\n",
       "    </tr>\n",
       "    <tr>\n",
       "        <td style=\"padding-left: 1em; padding-right: 1em; text-align: center; vertical-align: top\">Hotel</td>\n",
       "        <td style=\"padding-left: 1em; padding-right: 1em; text-align: center; vertical-align: top\">London</td>\n",
       "        <td style=\"padding-left: 1em; padding-right: 1em; text-align: center; vertical-align: top\">9.2</td>\n",
       "        <td style=\"padding-left: 1em; padding-right: 1em; text-align: center; vertical-align: top\">The Park Tower<br>Knightsbridge ...</td>\n",
       "        <td style=\"padding-left: 1em; padding-right: 1em; text-align: center; vertical-align: top\">[central london, luxury<br>hotel, spg, starwood] ...</td>\n",
       "        <td style=\"padding-left: 1em; padding-right: 1em; text-align: center; vertical-align: top\">GB</td>\n",
       "        <td style=\"padding-left: 1em; padding-right: 1em; text-align: center; vertical-align: top\">313.0</td>\n",
       "    </tr>\n",
       "    <tr>\n",
       "        <td style=\"padding-left: 1em; padding-right: 1em; text-align: center; vertical-align: top\">Hotel</td>\n",
       "        <td style=\"padding-left: 1em; padding-right: 1em; text-align: center; vertical-align: top\">London</td>\n",
       "        <td style=\"padding-left: 1em; padding-right: 1em; text-align: center; vertical-align: top\">8.9</td>\n",
       "        <td style=\"padding-left: 1em; padding-right: 1em; text-align: center; vertical-align: top\">The Halkin by COMO</td>\n",
       "        <td style=\"padding-left: 1em; padding-right: 1em; text-align: center; vertical-align: top\">[]</td>\n",
       "        <td style=\"padding-left: 1em; padding-right: 1em; text-align: center; vertical-align: top\">GB</td>\n",
       "        <td style=\"padding-left: 1em; padding-right: 1em; text-align: center; vertical-align: top\">30.0</td>\n",
       "    </tr>\n",
       "</table>\n",
       "<table frame=\"box\" rules=\"cols\">\n",
       "    <tr>\n",
       "        <th style=\"padding-left: 1em; padding-right: 1em; text-align: center\">photo</th>\n",
       "        <th style=\"padding-left: 1em; padding-right: 1em; text-align: center\">tips</th>\n",
       "        <th style=\"padding-left: 1em; padding-right: 1em; text-align: center\">checkins</th>\n",
       "        <th style=\"padding-left: 1em; padding-right: 1em; text-align: center\">description</th>\n",
       "    </tr>\n",
       "    <tr>\n",
       "        <td style=\"padding-left: 1em; padding-right: 1em; text-align: center; vertical-align: top\">[https://igx.4sqi.net/img<br>/general/800x600 ...</td>\n",
       "        <td style=\"padding-left: 1em; padding-right: 1em; text-align: center; vertical-align: top\">[Delicious burger ! I can<br>say the bun is the key ...</td>\n",
       "        <td style=\"padding-left: 1em; padding-right: 1em; text-align: center; vertical-align: top\">2419</td>\n",
       "        <td style=\"padding-left: 1em; padding-right: 1em; text-align: center; vertical-align: top\">We make proper<br>hamburgers. Good Scot ...</td>\n",
       "    </tr>\n",
       "    <tr>\n",
       "        <td style=\"padding-left: 1em; padding-right: 1em; text-align: center; vertical-align: top\">[https://igx.4sqi.net/img<br>/general/800x600/8C5- ...</td>\n",
       "        <td style=\"padding-left: 1em; padding-right: 1em; text-align: center; vertical-align: top\">[Check out the indoor<br>pool. Now we are ...</td>\n",
       "        <td style=\"padding-left: 1em; padding-right: 1em; text-align: center; vertical-align: top\">1510</td>\n",
       "        <td style=\"padding-left: 1em; padding-right: 1em; text-align: center; vertical-align: top\">None</td>\n",
       "    </tr>\n",
       "    <tr>\n",
       "        <td style=\"padding-left: 1em; padding-right: 1em; text-align: center; vertical-align: top\">[https://igx.4sqi.net/img<br>/general/800x600/6837 ...</td>\n",
       "        <td style=\"padding-left: 1em; padding-right: 1em; text-align: center; vertical-align: top\">[Skip the irrelevant<br>change of the guards and ...</td>\n",
       "        <td style=\"padding-left: 1em; padding-right: 1em; text-align: center; vertical-align: top\">92542</td>\n",
       "        <td style=\"padding-left: 1em; padding-right: 1em; text-align: center; vertical-align: top\">Buckingham Palace is the<br>working headquarters of ...</td>\n",
       "    </tr>\n",
       "    <tr>\n",
       "        <td style=\"padding-left: 1em; padding-right: 1em; text-align: center; vertical-align: top\">[https://igx.4sqi.net/img<br>/general/800x600/6843 ...</td>\n",
       "        <td style=\"padding-left: 1em; padding-right: 1em; text-align: center; vertical-align: top\">[Amazing English<br>BreakFast., Definitely ...</td>\n",
       "        <td style=\"padding-left: 1em; padding-right: 1em; text-align: center; vertical-align: top\">303</td>\n",
       "        <td style=\"padding-left: 1em; padding-right: 1em; text-align: center; vertical-align: top\">None</td>\n",
       "    </tr>\n",
       "    <tr>\n",
       "        <td style=\"padding-left: 1em; padding-right: 1em; text-align: center; vertical-align: top\">[https://igx.4sqi.net/img<br>/general/800x600/TTnC ...</td>\n",
       "        <td style=\"padding-left: 1em; padding-right: 1em; text-align: center; vertical-align: top\">[My favourite portuguese<br>food in London, Relax ...</td>\n",
       "        <td style=\"padding-left: 1em; padding-right: 1em; text-align: center; vertical-align: top\">365</td>\n",
       "        <td style=\"padding-left: 1em; padding-right: 1em; text-align: center; vertical-align: top\">None</td>\n",
       "    </tr>\n",
       "    <tr>\n",
       "        <td style=\"padding-left: 1em; padding-right: 1em; text-align: center; vertical-align: top\">[https://igx.4sqi.net/img<br>/general/800x600/2513 ...</td>\n",
       "        <td style=\"padding-left: 1em; padding-right: 1em; text-align: center; vertical-align: top\">[Squirrel Monkey: Ask the<br>zoo keeper (not the red ...</td>\n",
       "        <td style=\"padding-left: 1em; padding-right: 1em; text-align: center; vertical-align: top\">14252</td>\n",
       "        <td style=\"padding-left: 1em; padding-right: 1em; text-align: center; vertical-align: top\">Not to be missed, ZSL<br>London Zoo is the must- ...</td>\n",
       "    </tr>\n",
       "    <tr>\n",
       "        <td style=\"padding-left: 1em; padding-right: 1em; text-align: center; vertical-align: top\">[https://igx.4sqi.net/img<br>/general/800x600 ...</td>\n",
       "        <td style=\"padding-left: 1em; padding-right: 1em; text-align: center; vertical-align: top\">[Often overlooked for the<br>higher profile Tate ...</td>\n",
       "        <td style=\"padding-left: 1em; padding-right: 1em; text-align: center; vertical-align: top\">17161</td>\n",
       "        <td style=\"padding-left: 1em; padding-right: 1em; text-align: center; vertical-align: top\">None</td>\n",
       "    </tr>\n",
       "    <tr>\n",
       "        <td style=\"padding-left: 1em; padding-right: 1em; text-align: center; vertical-align: top\">[https://igx.4sqi.net/img<br>/general/800x600/ZY2Q ...</td>\n",
       "        <td style=\"padding-left: 1em; padding-right: 1em; text-align: center; vertical-align: top\">[WiFi access: 1) open<br>browser, select ...</td>\n",
       "        <td style=\"padding-left: 1em; padding-right: 1em; text-align: center; vertical-align: top\">1893</td>\n",
       "        <td style=\"padding-left: 1em; padding-right: 1em; text-align: center; vertical-align: top\">Welcome to The Cavendish<br>London! Thanks for ...</td>\n",
       "    </tr>\n",
       "    <tr>\n",
       "        <td style=\"padding-left: 1em; padding-right: 1em; text-align: center; vertical-align: top\">[https://igx.4sqi.net/img<br>/general/800x600/1290 ...</td>\n",
       "        <td style=\"padding-left: 1em; padding-right: 1em; text-align: center; vertical-align: top\">[One of the best hotels<br>in Knightsbridge! it' ...</td>\n",
       "        <td style=\"padding-left: 1em; padding-right: 1em; text-align: center; vertical-align: top\">11020</td>\n",
       "        <td style=\"padding-left: 1em; padding-right: 1em; text-align: center; vertical-align: top\">Situated in the heart of<br>one of London’s most ...</td>\n",
       "    </tr>\n",
       "    <tr>\n",
       "        <td style=\"padding-left: 1em; padding-right: 1em; text-align: center; vertical-align: top\">[https://igx.4sqi.net/img<br>/general/800x600/3850 ...</td>\n",
       "        <td style=\"padding-left: 1em; padding-right: 1em; text-align: center; vertical-align: top\">[Wonderful beds!  Walk to<br>Amaya for the best In ...</td>\n",
       "        <td style=\"padding-left: 1em; padding-right: 1em; text-align: center; vertical-align: top\">596</td>\n",
       "        <td style=\"padding-left: 1em; padding-right: 1em; text-align: center; vertical-align: top\">A luxury boutique hotel<br>in London’s Belgravia ...</td>\n",
       "    </tr>\n",
       "</table>\n",
       "<table frame=\"box\" rules=\"cols\">\n",
       "    <tr>\n",
       "        <th style=\"padding-left: 1em; padding-right: 1em; text-align: center\">venue_id</th>\n",
       "    </tr>\n",
       "    <tr>\n",
       "        <td style=\"padding-left: 1em; padding-right: 1em; text-align: center; vertical-align: top\">4a5f9446f964a520e0bf1fe3</td>\n",
       "    </tr>\n",
       "    <tr>\n",
       "        <td style=\"padding-left: 1em; padding-right: 1em; text-align: center; vertical-align: top\">4abcec53f964a520b98720e3</td>\n",
       "    </tr>\n",
       "    <tr>\n",
       "        <td style=\"padding-left: 1em; padding-right: 1em; text-align: center; vertical-align: top\">4abe4502f964a520558c20e3</td>\n",
       "    </tr>\n",
       "    <tr>\n",
       "        <td style=\"padding-left: 1em; padding-right: 1em; text-align: center; vertical-align: top\">4ac3ba25f964a520919c20e3</td>\n",
       "    </tr>\n",
       "    <tr>\n",
       "        <td style=\"padding-left: 1em; padding-right: 1em; text-align: center; vertical-align: top\">4ac51183f964a52046a020e3</td>\n",
       "    </tr>\n",
       "    <tr>\n",
       "        <td style=\"padding-left: 1em; padding-right: 1em; text-align: center; vertical-align: top\">4ac51183f964a52048a020e3</td>\n",
       "    </tr>\n",
       "    <tr>\n",
       "        <td style=\"padding-left: 1em; padding-right: 1em; text-align: center; vertical-align: top\">4ac51183f964a52049a020e3</td>\n",
       "    </tr>\n",
       "    <tr>\n",
       "        <td style=\"padding-left: 1em; padding-right: 1em; text-align: center; vertical-align: top\">4ac518b4f964a52067a020e3</td>\n",
       "    </tr>\n",
       "    <tr>\n",
       "        <td style=\"padding-left: 1em; padding-right: 1em; text-align: center; vertical-align: top\">4ac518b4f964a52071a020e3</td>\n",
       "    </tr>\n",
       "    <tr>\n",
       "        <td style=\"padding-left: 1em; padding-right: 1em; text-align: center; vertical-align: top\">4ac518b4f964a52073a020e3</td>\n",
       "    </tr>\n",
       "</table>\n",
       "[10 rows x 12 columns]<br/>\n",
       "</div>"
      ],
      "text/plain": [
       "Columns:\n",
       "\tcategory\tstr\n",
       "\tcity\tstr\n",
       "\trating\tfloat\n",
       "\tname\tstr\n",
       "\ttags\tlist\n",
       "\tcountry\tstr\n",
       "\tlikes\tfloat\n",
       "\tphoto\tlist\n",
       "\ttips\tlist\n",
       "\tcheckins\tint\n",
       "\tdescription\tstr\n",
       "\tvenue_id\tstr\n",
       "\n",
       "Rows: 10\n",
       "\n",
       "Data:\n",
       "+-------------+--------+--------+------------------------------+\n",
       "|   category  |  city  | rating |             name             |\n",
       "+-------------+--------+--------+------------------------------+\n",
       "|   Burgers   | London |  8.3   |            Byron             |\n",
       "|    Hotel    | London |  9.0   |       Haymarket Hotel        |\n",
       "|    Palace   | London |  9.0   |      Buckingham Palace       |\n",
       "|    Hotel    | London |  7.2   |       Macdonald Hotel        |\n",
       "|  Portuguese | London |  8.2   |    O Cantinho de Portugal    |\n",
       "|     Zoo     | London |  8.9   |        ZSL London Zoo        |\n",
       "| Art Gallery | London |  9.5   |         Tate Britain         |\n",
       "|    Hotel    | London |  8.3   |     The Cavendish London     |\n",
       "|    Hotel    | London |  9.2   | The Park Tower Knightsbridge |\n",
       "|    Hotel    | London |  8.9   |      The Halkin by COMO      |\n",
       "+-------------+--------+--------+------------------------------+\n",
       "+-------------------------------+---------+--------+\n",
       "|              tags             | country | likes  |\n",
       "+-------------------------------+---------+--------+\n",
       "|           [burgers]           |    GB   | 150.0  |\n",
       "|               []              |    GB   |  32.0  |\n",
       "| [cultural, guards, palace,... |    GB   | 5469.0 |\n",
       "|               []              |    GB   |  4.0   |\n",
       "|               []              |    GB   |  31.0  |\n",
       "| [animals, aquarium, birds,... |    GB   | 823.0  |\n",
       "| [art, art gallery, gallery... |    GB   | 1281.0 |\n",
       "| [accommodation, 4-star, me... |    GB   |  60.0  |\n",
       "| [central london, luxury ho... |    GB   | 313.0  |\n",
       "|               []              |    GB   |  30.0  |\n",
       "+-------------------------------+---------+--------+\n",
       "+-------------------------------+-------------------------------+----------+\n",
       "|             photo             |              tips             | checkins |\n",
       "+-------------------------------+-------------------------------+----------+\n",
       "| [https://igx.4sqi.net/img/... | [Delicious burger ! I can ... |   2419   |\n",
       "| [https://igx.4sqi.net/img/... | [Check out the indoor pool... |   1510   |\n",
       "| [https://igx.4sqi.net/img/... | [Skip the irrelevant chang... |  92542   |\n",
       "| [https://igx.4sqi.net/img/... | [Amazing English BreakFast... |   303    |\n",
       "| [https://igx.4sqi.net/img/... | [My favourite portuguese f... |   365    |\n",
       "| [https://igx.4sqi.net/img/... | [Squirrel Monkey: Ask the ... |  14252   |\n",
       "| [https://igx.4sqi.net/img/... | [Often overlooked for the ... |  17161   |\n",
       "| [https://igx.4sqi.net/img/... | [WiFi access: 1) open brow... |   1893   |\n",
       "| [https://igx.4sqi.net/img/... | [One of the best hotels in... |  11020   |\n",
       "| [https://igx.4sqi.net/img/... | [Wonderful beds!  Walk to ... |   596    |\n",
       "+-------------------------------+-------------------------------+----------+\n",
       "+-------------------------------+--------------------------+\n",
       "|          description          |         venue_id         |\n",
       "+-------------------------------+--------------------------+\n",
       "| We make proper hamburgers.... | 4a5f9446f964a520e0bf1fe3 |\n",
       "|              None             | 4abcec53f964a520b98720e3 |\n",
       "| Buckingham Palace is the w... | 4abe4502f964a520558c20e3 |\n",
       "|              None             | 4ac3ba25f964a520919c20e3 |\n",
       "|              None             | 4ac51183f964a52046a020e3 |\n",
       "| Not to be missed, ZSL Lond... | 4ac51183f964a52048a020e3 |\n",
       "|              None             | 4ac51183f964a52049a020e3 |\n",
       "| Welcome to The Cavendish L... | 4ac518b4f964a52067a020e3 |\n",
       "| Situated in the heart of o... | 4ac518b4f964a52071a020e3 |\n",
       "| A luxury boutique hotel in... | 4ac518b4f964a52073a020e3 |\n",
       "+-------------------------------+--------------------------+\n",
       "[10 rows x 12 columns]"
      ]
     },
     "execution_count": 254,
     "metadata": {},
     "output_type": "execute_result"
    }
   ],
   "source": [
    "# Sframe shown\n",
    "sf.head()"
   ]
  },
  {
   "cell_type": "markdown",
   "metadata": {},
   "source": [
    "### 2. preprocessing\n",
    "* put all tips for one venue together, store them in a new column 'all_tips'"
   ]
  },
  {
   "cell_type": "code",
   "execution_count": 56,
   "metadata": {
    "collapsed": false
   },
   "outputs": [],
   "source": [
    "# put all tips together\n",
    "def put_all_tips(tips):\n",
    "    all_tips = ''\n",
    "    for t in tips:\n",
    "        all_tips +=t\n",
    "    return all_tips\n",
    "sf['all_tips'] = sf['tips'].apply(lambda x:put_all_tips(x))"
   ]
  },
  {
   "cell_type": "markdown",
   "metadata": {},
   "source": [
    "   * Text cleaning"
   ]
  },
  {
   "cell_type": "code",
   "execution_count": 193,
   "metadata": {
    "collapsed": true
   },
   "outputs": [],
   "source": [
    "# get words, dropping punctuations etc.\n",
    "sf['all_tips'] = sf['all_tips'].apply(lambda x: re.sub(\"[^a-zA-Z]\", \" \", x))"
   ]
  },
  {
   "cell_type": "markdown",
   "metadata": {},
   "source": [
    "* Tokenization\n",
    "* Bag-of-words representation\n",
    "* Stop words and less frequent words removal"
   ]
  },
  {
   "cell_type": "code",
   "execution_count": 206,
   "metadata": {
    "collapsed": false
   },
   "outputs": [],
   "source": [
    "# tokenization\n",
    "docs = gl.text_analytics.tokenize(sf['all_tips'])\n",
    "# Bag-of-words\n",
    "docs = gl.text_analytics.count_words(docs)\n",
    "# Remove stop words\n",
    "docs = docs.dict_trim_by_keys(gl.text_analytics.stopwords(), exclude=True)\n",
    "# Remove less freq words\n",
    "docs = docs.dict_trim_by_values(2)"
   ]
  },
  {
   "cell_type": "markdown",
   "metadata": {},
   "source": [
    "###  3. Gnerate topics\n",
    "* remove docs which has less than 3 keywords\n",
    "* create a model\n",
    "* check and evaluate"
   ]
  },
  {
   "cell_type": "code",
   "execution_count": 207,
   "metadata": {
    "collapsed": true
   },
   "outputs": [],
   "source": [
    "# remove docs which has less than 3 keywords\n",
    "ix = docs.apply(lambda x:len(x.keys())>3)\n",
    "docs_new = docs[ix]"
   ]
  },
  {
   "cell_type": "code",
   "execution_count": 209,
   "metadata": {
    "collapsed": false
   },
   "outputs": [
    {
     "name": "stdout",
     "output_type": "stream",
     "text": [
      "0.320307281229\n"
     ]
    }
   ],
   "source": [
    "# Show how many docs have been removed\n",
    "print 1.0*len(docs_new)/len(docs)"
   ]
  },
  {
   "cell_type": "code",
   "execution_count": 236,
   "metadata": {
    "collapsed": false
   },
   "outputs": [
    {
     "data": {
      "text/html": [
       "<pre>Learning a topic model</pre>"
      ],
      "text/plain": [
       "Learning a topic model"
      ]
     },
     "metadata": {},
     "output_type": "display_data"
    },
    {
     "data": {
      "text/html": [
       "<pre>       Number of documents      3836</pre>"
      ],
      "text/plain": [
       "       Number of documents      3836"
      ]
     },
     "metadata": {},
     "output_type": "display_data"
    },
    {
     "data": {
      "text/html": [
       "<pre>           Vocabulary size      8851</pre>"
      ],
      "text/plain": [
       "           Vocabulary size      8851"
      ]
     },
     "metadata": {},
     "output_type": "display_data"
    },
    {
     "data": {
      "text/html": [
       "<pre>   Running collapsed Gibbs sampling</pre>"
      ],
      "text/plain": [
       "   Running collapsed Gibbs sampling"
      ]
     },
     "metadata": {},
     "output_type": "display_data"
    },
    {
     "data": {
      "text/html": [
       "<pre>+-----------+---------------+----------------+-----------------+</pre>"
      ],
      "text/plain": [
       "+-----------+---------------+----------------+-----------------+"
      ]
     },
     "metadata": {},
     "output_type": "display_data"
    },
    {
     "data": {
      "text/html": [
       "<pre>| Iteration | Elapsed Time  | Tokens/Second  | Est. Perplexity |</pre>"
      ],
      "text/plain": [
       "| Iteration | Elapsed Time  | Tokens/Second  | Est. Perplexity |"
      ]
     },
     "metadata": {},
     "output_type": "display_data"
    },
    {
     "data": {
      "text/html": [
       "<pre>+-----------+---------------+----------------+-----------------+</pre>"
      ],
      "text/plain": [
       "+-----------+---------------+----------------+-----------------+"
      ]
     },
     "metadata": {},
     "output_type": "display_data"
    },
    {
     "data": {
      "text/html": [
       "<pre>| 10        | 925.464ms     | 1.6015e+006    | 0               |</pre>"
      ],
      "text/plain": [
       "| 10        | 925.464ms     | 1.6015e+006    | 0               |"
      ]
     },
     "metadata": {},
     "output_type": "display_data"
    },
    {
     "data": {
      "text/html": [
       "<pre>| 20        | 1.64s         | 2.07026e+006   | 0               |</pre>"
      ],
      "text/plain": [
       "| 20        | 1.64s         | 2.07026e+006   | 0               |"
      ]
     },
     "metadata": {},
     "output_type": "display_data"
    },
    {
     "data": {
      "text/html": [
       "<pre>| 30        | 2.34s         | 1.60127e+006   | 0               |</pre>"
      ],
      "text/plain": [
       "| 30        | 2.34s         | 1.60127e+006   | 0               |"
      ]
     },
     "metadata": {},
     "output_type": "display_data"
    },
    {
     "data": {
      "text/html": [
       "<pre>| 40        | 3.06s         | 1.76809e+006   | 0               |</pre>"
      ],
      "text/plain": [
       "| 40        | 3.06s         | 1.76809e+006   | 0               |"
      ]
     },
     "metadata": {},
     "output_type": "display_data"
    },
    {
     "data": {
      "text/html": [
       "<pre>| 50        | 3.61s         | 2.07061e+006   | 0               |</pre>"
      ],
      "text/plain": [
       "| 50        | 3.61s         | 2.07061e+006   | 0               |"
      ]
     },
     "metadata": {},
     "output_type": "display_data"
    },
    {
     "data": {
      "text/html": [
       "<pre>| 60        | 4.09s         | 2.06933e+006   | 0               |</pre>"
      ],
      "text/plain": [
       "| 60        | 4.09s         | 2.06933e+006   | 0               |"
      ]
     },
     "metadata": {},
     "output_type": "display_data"
    },
    {
     "data": {
      "text/html": [
       "<pre>| 70        | 4.52s         | 3.53662e+006   | 0               |</pre>"
      ],
      "text/plain": [
       "| 70        | 4.52s         | 3.53662e+006   | 0               |"
      ]
     },
     "metadata": {},
     "output_type": "display_data"
    },
    {
     "data": {
      "text/html": [
       "<pre>| 80        | 4.97s         | 3.53436e+006   | 0               |</pre>"
      ],
      "text/plain": [
       "| 80        | 4.97s         | 3.53436e+006   | 0               |"
      ]
     },
     "metadata": {},
     "output_type": "display_data"
    },
    {
     "data": {
      "text/html": [
       "<pre>| 90        | 5.41s         | 2.92675e+006   | 0               |</pre>"
      ],
      "text/plain": [
       "| 90        | 5.41s         | 2.92675e+006   | 0               |"
      ]
     },
     "metadata": {},
     "output_type": "display_data"
    },
    {
     "data": {
      "text/html": [
       "<pre>| 100       | 5.85s         | 2.35777e+006   | 0               |</pre>"
      ],
      "text/plain": [
       "| 100       | 5.85s         | 2.35777e+006   | 0               |"
      ]
     },
     "metadata": {},
     "output_type": "display_data"
    },
    {
     "data": {
      "text/html": [
       "<pre>| 110       | 6.29s         | 2.07007e+006   | 0               |</pre>"
      ],
      "text/plain": [
       "| 110       | 6.29s         | 2.07007e+006   | 0               |"
      ]
     },
     "metadata": {},
     "output_type": "display_data"
    },
    {
     "data": {
      "text/html": [
       "<pre>| 120       | 6.71s         | 2.92644e+006   | 0               |</pre>"
      ],
      "text/plain": [
       "| 120       | 6.71s         | 2.92644e+006   | 0               |"
      ]
     },
     "metadata": {},
     "output_type": "display_data"
    },
    {
     "data": {
      "text/html": [
       "<pre>| 130       | 7.11s         | 2.9266e+006    | 0               |</pre>"
      ],
      "text/plain": [
       "| 130       | 7.11s         | 2.9266e+006    | 0               |"
      ]
     },
     "metadata": {},
     "output_type": "display_data"
    },
    {
     "data": {
      "text/html": [
       "<pre>| 140       | 7.44s         | 3.53662e+006   | 0               |</pre>"
      ],
      "text/plain": [
       "| 140       | 7.44s         | 3.53662e+006   | 0               |"
      ]
     },
     "metadata": {},
     "output_type": "display_data"
    },
    {
     "data": {
      "text/html": [
       "<pre>| 150       | 7.76s         | 3.53662e+006   | 0               |</pre>"
      ],
      "text/plain": [
       "| 150       | 7.76s         | 3.53662e+006   | 0               |"
      ]
     },
     "metadata": {},
     "output_type": "display_data"
    },
    {
     "data": {
      "text/html": [
       "<pre>| 160       | 8.14s         | 3.53662e+006   | 0               |</pre>"
      ],
      "text/plain": [
       "| 160       | 8.14s         | 3.53662e+006   | 0               |"
      ]
     },
     "metadata": {},
     "output_type": "display_data"
    },
    {
     "data": {
      "text/html": [
       "<pre>| 170       | 8.49s         | 3.27408e+006   | 0               |</pre>"
      ],
      "text/plain": [
       "| 170       | 8.49s         | 3.27408e+006   | 0               |"
      ]
     },
     "metadata": {},
     "output_type": "display_data"
    },
    {
     "data": {
      "text/html": [
       "<pre>| 180       | 8.83s         | 3.53459e+006   | 0               |</pre>"
      ],
      "text/plain": [
       "| 180       | 8.83s         | 3.53459e+006   | 0               |"
      ]
     },
     "metadata": {},
     "output_type": "display_data"
    },
    {
     "data": {
      "text/html": [
       "<pre>| 190       | 9.23s         | 3.53594e+006   | 0               |</pre>"
      ],
      "text/plain": [
       "| 190       | 9.23s         | 3.53594e+006   | 0               |"
      ]
     },
     "metadata": {},
     "output_type": "display_data"
    },
    {
     "data": {
      "text/html": [
       "<pre>| 200       | 9.58s         | 3536736        | 0               |</pre>"
      ],
      "text/plain": [
       "| 200       | 9.58s         | 3536736        | 0               |"
      ]
     },
     "metadata": {},
     "output_type": "display_data"
    },
    {
     "data": {
      "text/html": [
       "<pre>+-----------+---------------+----------------+-----------------+</pre>"
      ],
      "text/plain": [
       "+-----------+---------------+----------------+-----------------+"
      ]
     },
     "metadata": {},
     "output_type": "display_data"
    }
   ],
   "source": [
    "# create a topic model \n",
    "topic_model = gl.topic_model.create(docs_new,num_topics=30, num_iterations=200)"
   ]
  },
  {
   "cell_type": "code",
   "execution_count": 263,
   "metadata": {
    "collapsed": false
   },
   "outputs": [
    {
     "name": "stdout",
     "output_type": "stream",
     "text": [
      "topic  0 ['coffee', 'great', 'staff', 'place', 'friendly', 'flat']\n",
      "topic  1 ['food', 'market', 'good', 'place', 'cheese', 'lunch']\n",
      "topic  2 ['museum', 'great', 'art', 'exhibition', 'collection', 'cafe']\n",
      "topic  3 ['pub', 'beer', 'good', 'great', 'selection', 'beers']\n",
      "topic  4 ['tea', 'good', 'london', 'service', 'afternoon', 'amazing']\n",
      "topic  5 ['palace', 'queen', 'buckingham', 'royal', 'changing', 'british']\n",
      "topic  6 ['food', 'great', 'service', 'wine', 'restaurant', 'menu']\n",
      "topic  7 ['hotel', 'rooms', 'room', 'location', 'breakfast', 'staff']\n",
      "topic  8 ['food', 'breakfast', 'good', 'great', 'eggs', 'place']\n",
      "topic  9 ['chocolate', 'cake', 'delicious', 'amazing', 'london', 'cream']\n",
      "topic  10 ['food', 'good', 'chicken', 'great', 'lunch', 'delicious']\n",
      "topic  11 ['park', 'place', 'london', 'beautiful', 'walk', 'day']\n",
      "topic  12 ['great', 'place', 'london', 'nice', 'gym', 'pool']\n",
      "topic  13 ['london', 'big', 'nice', 'people', 'beautiful', 'walk']\n",
      "topic  14 ['place', 'store', 'shop', 'street', 'shopping', 'great']\n",
      "topic  15 ['great', 'food', 'cinema', 'nice', 'seats', 'don']\n",
      "topic  16 ['station', 'train', 'free', 'wifi', 'don', 'platform']\n",
      "topic  17 ['beef', 'chicken', 'duck', 'pork', 'chinese', 'salad']\n",
      "topic  18 ['view', 'london', 'great', 'views', 'bridge', 'nice']\n",
      "topic  19 ['pizza', 'good', 'great', 'italian', 'place', 'nice']\n",
      "topic  20 ['food', 'good', 'great', 'place', 'nice', 'staff']\n",
      "topic  21 ['amazing', 'wait', 'time', 'long', 'make', 'love']\n",
      "topic  22 ['good', 'great', 'london', 'cheap', 'place', 'amazing']\n",
      "topic  23 ['bar', 'cocktails', 'great', 'place', 'drinks', 'good']\n",
      "topic  24 ['food', 'service', 'good', 'staff', 'nice', 'great']\n",
      "topic  25 ['food', 'good', 'sushi', 'lobster', 'service', 'delicious']\n",
      "topic  26 ['place', 'free', 'visit', 'london', 'worth', 'time']\n",
      "topic  27 ['food', 'good', 'great', 'nice', 'service', 'staff']\n",
      "topic  28 ['burger', 'burgers', 'good', 'cheese', 'fries', 'chicken']\n",
      "topic  29 ['great', 'music', 'theatre', 'venue', 'night', 'show']\n"
     ]
    }
   ],
   "source": [
    "for i in range(30):\n",
    "    print 'topic ',i,topic_model.get_topics(num_words=6,output_type='topic_words')[i]['words']"
   ]
  },
  {
   "cell_type": "code",
   "execution_count": 255,
   "metadata": {
    "collapsed": false
   },
   "outputs": [
    {
     "name": "stdout",
     "output_type": "stream",
     "text": [
      "{'words': ['palace', 'queen', 'buckingham', 'royal', 'changing', 'british', 'guards', 'prince', 'reception', 'garden']}\n"
     ]
    }
   ],
   "source": [
    "# These are the 5th topic words\n",
    "print topic_model.get_topics(num_words=10,output_type='topic_words')[5]"
   ]
  },
  {
   "cell_type": "code",
   "execution_count": 256,
   "metadata": {
    "collapsed": false
   },
   "outputs": [],
   "source": [
    "docs_in_topic_5 = docs_new[topic_model.predict(docs_new)==5]"
   ]
  },
  {
   "cell_type": "code",
   "execution_count": 259,
   "metadata": {
    "collapsed": false
   },
   "outputs": [],
   "source": [
    "# select venues which are predicted to be topic 5\n",
    "sf_new = sf[ix]\n",
    "venue_in_topic5 = sf_new[topic_model.predict(docs_new)==5]"
   ]
  },
  {
   "cell_type": "code",
   "execution_count": 260,
   "metadata": {
    "collapsed": false
   },
   "outputs": [
    {
     "data": {
      "text/html": [
       "<div style=\"max-height:1000px;max-width:1500px;overflow:auto;\"><table frame=\"box\" rules=\"cols\">\n",
       "    <tr>\n",
       "        <th style=\"padding-left: 1em; padding-right: 1em; text-align: center\">category</th>\n",
       "        <th style=\"padding-left: 1em; padding-right: 1em; text-align: center\">name</th>\n",
       "        <th style=\"padding-left: 1em; padding-right: 1em; text-align: center\">tips</th>\n",
       "    </tr>\n",
       "    <tr>\n",
       "        <td style=\"padding-left: 1em; padding-right: 1em; text-align: center; vertical-align: top\">Palace</td>\n",
       "        <td style=\"padding-left: 1em; padding-right: 1em; text-align: center; vertical-align: top\">Buckingham Palace</td>\n",
       "        <td style=\"padding-left: 1em; padding-right: 1em; text-align: center; vertical-align: top\">[Skip the irrelevant<br>change of the guards and ...</td>\n",
       "    </tr>\n",
       "    <tr>\n",
       "        <td style=\"padding-left: 1em; padding-right: 1em; text-align: center; vertical-align: top\">Plaza</td>\n",
       "        <td style=\"padding-left: 1em; padding-right: 1em; text-align: center; vertical-align: top\">Horse Guards Parade</td>\n",
       "        <td style=\"padding-left: 1em; padding-right: 1em; text-align: center; vertical-align: top\">[Along the middle path<br>from the main archway it ...</td>\n",
       "    </tr>\n",
       "    <tr>\n",
       "        <td style=\"padding-left: 1em; padding-right: 1em; text-align: center; vertical-align: top\">Plaza</td>\n",
       "        <td style=\"padding-left: 1em; padding-right: 1em; text-align: center; vertical-align: top\">Speakers' Corner</td>\n",
       "        <td style=\"padding-left: 1em; padding-right: 1em; text-align: center; vertical-align: top\">[was great on Sunday<br>listening to everyone ...</td>\n",
       "    </tr>\n",
       "    <tr>\n",
       "        <td style=\"padding-left: 1em; padding-right: 1em; text-align: center; vertical-align: top\">Landmark</td>\n",
       "        <td style=\"padding-left: 1em; padding-right: 1em; text-align: center; vertical-align: top\">Admiralty Arch</td>\n",
       "        <td style=\"padding-left: 1em; padding-right: 1em; text-align: center; vertical-align: top\">[John Prescott used to<br>have a private flat h ...</td>\n",
       "    </tr>\n",
       "    <tr>\n",
       "        <td style=\"padding-left: 1em; padding-right: 1em; text-align: center; vertical-align: top\">Historic Site</td>\n",
       "        <td style=\"padding-left: 1em; padding-right: 1em; text-align: center; vertical-align: top\">Banqueting House</td>\n",
       "        <td style=\"padding-left: 1em; padding-right: 1em; text-align: center; vertical-align: top\">[This was the only part<br>of Whitehall Palace, one ...</td>\n",
       "    </tr>\n",
       "    <tr>\n",
       "        <td style=\"padding-left: 1em; padding-right: 1em; text-align: center; vertical-align: top\">Art Gallery</td>\n",
       "        <td style=\"padding-left: 1em; padding-right: 1em; text-align: center; vertical-align: top\">Queen's House</td>\n",
       "        <td style=\"padding-left: 1em; padding-right: 1em; text-align: center; vertical-align: top\">[Completed in 1638 by<br>Inigo Jones, the house ...</td>\n",
       "    </tr>\n",
       "    <tr>\n",
       "        <td style=\"padding-left: 1em; padding-right: 1em; text-align: center; vertical-align: top\">Hospital</td>\n",
       "        <td style=\"padding-left: 1em; padding-right: 1em; text-align: center; vertical-align: top\">Royal Hospital Chelsea</td>\n",
       "        <td style=\"padding-left: 1em; padding-right: 1em; text-align: center; vertical-align: top\">[The statue of Charles II<br>in the square of the ...</td>\n",
       "    </tr>\n",
       "    <tr>\n",
       "        <td style=\"padding-left: 1em; padding-right: 1em; text-align: center; vertical-align: top\">Plaza</td>\n",
       "        <td style=\"padding-left: 1em; padding-right: 1em; text-align: center; vertical-align: top\">Fitzroy Square</td>\n",
       "        <td style=\"padding-left: 1em; padding-right: 1em; text-align: center; vertical-align: top\">[During the day in summer<br>the 'private garden' in ...</td>\n",
       "    </tr>\n",
       "    <tr>\n",
       "        <td style=\"padding-left: 1em; padding-right: 1em; text-align: center; vertical-align: top\">Palace</td>\n",
       "        <td style=\"padding-left: 1em; padding-right: 1em; text-align: center; vertical-align: top\">Clarence House</td>\n",
       "        <td style=\"padding-left: 1em; padding-right: 1em; text-align: center; vertical-align: top\">[This royal residence was<br>commissioned  by the  ...</td>\n",
       "    </tr>\n",
       "    <tr>\n",
       "        <td style=\"padding-left: 1em; padding-right: 1em; text-align: center; vertical-align: top\">Museum</td>\n",
       "        <td style=\"padding-left: 1em; padding-right: 1em; text-align: center; vertical-align: top\">National Army Museum</td>\n",
       "        <td style=\"padding-left: 1em; padding-right: 1em; text-align: center; vertical-align: top\">[Amongst the uniforms,<br>weapons and paintings on ...</td>\n",
       "    </tr>\n",
       "</table>\n",
       "[? rows x 3 columns]<br/>Note: Only the head of the SFrame is printed. This SFrame is lazily evaluated.<br/>You can use sf.materialize() to force materialization.\n",
       "</div>"
      ],
      "text/plain": [
       "Columns:\n",
       "\tcategory\tstr\n",
       "\tname\tstr\n",
       "\ttips\tlist\n",
       "\n",
       "Rows: Unknown\n",
       "\n",
       "Data:\n",
       "+---------------+------------------------+-------------------------------+\n",
       "|    category   |          name          |              tips             |\n",
       "+---------------+------------------------+-------------------------------+\n",
       "|     Palace    |   Buckingham Palace    | [Skip the irrelevant chang... |\n",
       "|     Plaza     |  Horse Guards Parade   | [Along the middle path fro... |\n",
       "|     Plaza     |    Speakers' Corner    | [was great on Sunday liste... |\n",
       "|    Landmark   |     Admiralty Arch     | [John Prescott used to hav... |\n",
       "| Historic Site |    Banqueting House    | [This was the only part of... |\n",
       "|  Art Gallery  |     Queen's House      | [Completed in 1638 by Inig... |\n",
       "|    Hospital   | Royal Hospital Chelsea | [The statue of Charles II ... |\n",
       "|     Plaza     |     Fitzroy Square     | [During the day in summer ... |\n",
       "|     Palace    |     Clarence House     | [This royal residence was ... |\n",
       "|     Museum    |  National Army Museum  | [Amongst the uniforms, wea... |\n",
       "+---------------+------------------------+-------------------------------+\n",
       "[? rows x 3 columns]\n",
       "Note: Only the head of the SFrame is printed. This SFrame is lazily evaluated.\n",
       "You can use sf.materialize() to force materialization."
      ]
     },
     "execution_count": 260,
     "metadata": {},
     "output_type": "execute_result"
    }
   ],
   "source": [
    "venue_in_topic5['category','name','tips']"
   ]
  }
 ],
 "metadata": {
  "kernelspec": {
   "display_name": "gl-env",
   "language": "python",
   "name": "gl-env"
  },
  "language_info": {
   "codemirror_mode": {
    "name": "ipython",
    "version": 2
   },
   "file_extension": ".py",
   "mimetype": "text/x-python",
   "name": "python",
   "nbconvert_exporter": "python",
   "pygments_lexer": "ipython2",
   "version": "2.7.11"
  }
 },
 "nbformat": 4,
 "nbformat_minor": 0
}
